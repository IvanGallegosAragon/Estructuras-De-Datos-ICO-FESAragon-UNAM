{
  "nbformat": 4,
  "nbformat_minor": 0,
  "metadata": {
    "colab": {
      "name": "Array2D_Juego_De_La_Vida.ipynb",
      "provenance": []
    },
    "kernelspec": {
      "name": "python3",
      "display_name": "Python 3"
    },
    "language_info": {
      "name": "python"
    }
  },
  "cells": [
    {
      "cell_type": "code",
      "metadata": {
        "id": "r1ySXtdT8jLU"
      },
      "source": [
        "class Array2D():\n",
        "  def __init__(self, ren, col):\n",
        "    self.__columnas = col\n",
        "    self.__renglones = ren\n",
        "    self.__data = [[ 0 for i in range(col)]for i in range (ren)]\n",
        "\n",
        "  def to_string(self):\n",
        "    for i in range(self.__renglones):\n",
        "      print(self.__data[i])\n",
        "\n",
        "  def clear(self, dato):\n",
        "    for i in range (self.__renglones):\n",
        "      for x in range(self.__columnas):\n",
        "        self.__data[i][x] = dato\n",
        "\n",
        "  def get_row_size(self):\n",
        "    return self.__renglones\n",
        "\n",
        "  def get_col_size(self):\n",
        "    return self.__columnas\n",
        "\n",
        "  def set_item(self,ren,col,dato):\n",
        "    self.__data[ren][col] = dato\n",
        "\n",
        "  def get_item(self,ren,col):\n",
        "    return self.__data[ren][col]"
      ],
      "execution_count": 17,
      "outputs": []
    },
    {
      "cell_type": "code",
      "metadata": {
        "id": "XZbukduWGr1z"
      },
      "source": [
        "class JuegoDeLaVidaADT:\n",
        "  def __init__( self,rens,cols, list_pob_init, generations  ):\n",
        "    \"\"\"En el constructor la var list_pob_init es una lista de tuplas que son las cordenadas x,y de la forma (ren,col) de las\n",
        "    Celulas vivad de la poblacion incial \"\"\"\n",
        "    self.__rens = rens\n",
        "    self.__cols = cols\n",
        "    self.list_pob_init = list_pob_init\n",
        "    self.generations = generations\n",
        "    self.gen = 1\n",
        "    self.tablero =Array2D(self.__rens,self.__cols)\n",
        "    self.tablero.clear(\"M\")\n",
        "    for par in self.list_pob_init:\n",
        "      self.tablero.set_item(par[0],par[1],\"V\")\n",
        "\n",
        "  def to_String(self):\n",
        "    print(f\"-----GENERACION {self.gen}\")\n",
        "    self.tablero.to_string()\n",
        "  \n",
        "  def get_Vecinos(self, r, c):\n",
        "    vecinos = []\n",
        "    for ren in range(r - 1, r + 2, 1):\n",
        "      for col in range(c - 1, c + 2, 1):\n",
        "        if (ren < 0 or ren > self.__rens) or (col < 0 or col > self.__cols):\n",
        "          continue\n",
        "        else:\n",
        "          vecinos.append((ren,col))  \n",
        "    if (r,c) in vecinos:\n",
        "        vecinos.remove((r,c))\n",
        "    return vecinos      \n",
        "\n",
        "  def get_vecinos_vivos(self, list_vecinos):\n",
        "    \"\"\"\"La lista vecinos es una lista de tuplas que son las cordenadas x,y de la forma (ren,col) de las\n",
        "    Celulas\"\"\"\n",
        "    vivos = []\n",
        "    for vecino in list_vecinos:\n",
        "      vecino_actual = self.tablero.get_item(vecino[0],vecino[1])\n",
        "      if vecino_actual == \"V\":\n",
        "        vivos.append((vecino[0],vecino[1]))\n",
        "      else:\n",
        "        continue\n",
        "    return vivos    "
      ],
      "execution_count": 18,
      "outputs": []
    },
    {
      "cell_type": "code",
      "metadata": {
        "colab": {
          "base_uri": "https://localhost:8080/"
        },
        "id": "57kmn6bUGrue",
        "outputId": "d97840a5-9c2e-4bb4-b018-412544a7609c"
      },
      "source": [
        "juego = JuegoDeLaVidaADT(6,5, [(2,2),(3,1),(3,2),(3,3)],5)\n",
        "juego.to_String()\n",
        "vecinos = juego.get_Vecinos(2,2)\n",
        "print(f\"Vecinos de [2,2]: \\n{vecinos}\")\n",
        "vivos = juego.get_vecinos_vivos(vecinos)\n",
        "print(f\"Veciinos vivos de [2,2]: \\n{vivos}\")\n"
      ],
      "execution_count": 19,
      "outputs": [
        {
          "output_type": "stream",
          "name": "stdout",
          "text": [
            "-----GENERACION 1\n",
            "['M', 'M', 'M', 'M', 'M']\n",
            "['M', 'M', 'M', 'M', 'M']\n",
            "['M', 'M', 'V', 'M', 'M']\n",
            "['M', 'V', 'V', 'V', 'M']\n",
            "['M', 'M', 'M', 'M', 'M']\n",
            "['M', 'M', 'M', 'M', 'M']\n",
            "Vecinos de [2,2]: \n",
            "[(1, 1), (1, 2), (1, 3), (2, 1), (2, 3), (3, 1), (3, 2), (3, 3)]\n",
            "Veciinos vivos de [2,2]: \n",
            "[(3, 1), (3, 2), (3, 3)]\n"
          ]
        }
      ]
    }
  ]
}