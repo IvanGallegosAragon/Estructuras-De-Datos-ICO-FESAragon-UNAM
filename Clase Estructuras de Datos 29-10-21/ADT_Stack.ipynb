{
  "nbformat": 4,
  "nbformat_minor": 0,
  "metadata": {
    "colab": {
      "name": "ADT Stack.ipynb",
      "provenance": []
    },
    "kernelspec": {
      "name": "python3",
      "display_name": "Python 3"
    },
    "language_info": {
      "name": "python"
    }
  },
  "cells": [
    {
      "cell_type": "code",
      "metadata": {
        "id": "KObbt7uUIQyb"
      },
      "source": [
        "class StackADT:\n",
        "  def __init__(self):\n",
        "    self.data = list()\n",
        "    self.tope = 0\n",
        "\n",
        "  def isEmpty(self):\n",
        "    return self.tope == 0\n",
        "\n",
        "  def length(self):\n",
        "    return self.tope\n",
        "\n",
        "  def pop(self):\n",
        "    if  not self.isEmpty():\n",
        "      self.tope -= 1 \n",
        "      return self.data.pop()\n",
        "      #return self.data[self.tope - 1]\n",
        "     \n",
        "\n",
        "  def peek(self):\n",
        "    return self.data[self.tope - 1]\n",
        "    #return self.data[-1]\n",
        "\n",
        "  def push(self, valor):\n",
        "    self.data.append(valor)  \n",
        "    self.tope += 1\n",
        "  \n",
        "  def toString(self):\n",
        "    print(\"Estado de la pila es: \")\n",
        "    for element in self.data[::-1]: #Inversa la pila\n",
        "      print(f\"| {element} |\")  \n"
      ],
      "execution_count": 17,
      "outputs": []
    },
    {
      "cell_type": "code",
      "metadata": {
        "colab": {
          "base_uri": "https://localhost:8080/"
        },
        "id": "IHy6p0s8YEHz",
        "outputId": "ead9ce24-b377-48ac-ac95-586e0ae9218a"
      },
      "source": [
        "pila = StackADT()\n",
        "print(f\"La pila tiene {pila.length()} elementos\")\n",
        "pila.push(10)\n",
        "pila.push(20)\n",
        "pila.push(30)\n",
        "pila.toString()\n",
        "\n",
        "pila.pop()\n",
        "pila.toString()\n",
        "\n",
        "pila.push(25)\n",
        "pila.push(26)\n",
        "pila.toString()\n",
        "\n",
        "print(f\"La pila tiene {pila.length()} elementos\")"
      ],
      "execution_count": 18,
      "outputs": [
        {
          "output_type": "stream",
          "name": "stdout",
          "text": [
            "La pila tiene 0 elementos\n",
            "Estado de la pila es: \n",
            "| 30 |\n",
            "| 20 |\n",
            "| 10 |\n",
            "Estado de la pila es: \n",
            "| 20 |\n",
            "| 10 |\n",
            "Estado de la pila es: \n",
            "| 26 |\n",
            "| 25 |\n",
            "| 20 |\n",
            "| 10 |\n",
            "La pila tiene 4 elementos\n"
          ]
        }
      ]
    },
    {
      "cell_type": "code",
      "metadata": {
        "id": "xVtt4qWEpyWu"
      },
      "source": [
        "class Array2D():\n",
        "  def __init__(self, ren, col):\n",
        "    self.__columnas = col\n",
        "    self.__renglones = ren\n",
        "    self.__data = [[ 0 for i in range(col)]for i in range (ren)]\n",
        "\n",
        "  def to_string(self):\n",
        "    for i in range(self.__renglones):\n",
        "      print(self.__data[i])\n",
        "\n",
        "  def clear(self, dato):\n",
        "    for i in range (self.__renglones):\n",
        "      for x in range(self.__columnas):\n",
        "        self.__data[i][x] = dato\n",
        "\n",
        "  def get_row_size(self):\n",
        "    return self.__renglones\n",
        "\n",
        "  def get_col_size(self):\n",
        "    return self.__columnas\n",
        "\n",
        "  def set_item(self,ren,col,dato):\n",
        "    self.__data[ren][col] = dato\n",
        "\n",
        "  def get_item(self,ren,col):\n",
        "    return self.__data[ren][col]"
      ],
      "execution_count": 19,
      "outputs": []
    },
    {
      "cell_type": "code",
      "metadata": {
        "id": "lvj6NAFsp1mt"
      },
      "source": [
        "class LaberintoADT:\n",
        "  def __init__(self,archivo):\n",
        "    self.laberinto = None #Sera un Array 2D\n",
        "    self.camino = StackADT()\n",
        "    self.inicializa(archivo)\n",
        "    self.laberinto.to_string()\n",
        "    self.camino.toString()\n",
        "  \n",
        "  \"\"\"\n",
        "  P = pared\n",
        "  C = corredor\n",
        "  E = entrada \n",
        "  S = salida\n",
        "  X = ya visitado \n",
        "  \"\"\"\n",
        "  def inicializa(self, archivo):\n",
        "    entrada = open(archivo , \"rt\")\n",
        "    self.laberinto = Array2D(int(entrada.readline().strip()),int(entrada.readline().strip()))\n",
        "    self.laberinto.clear(\"P\")\n",
        "    lineas = entrada.readlines()\n",
        "    #print(lineas)\n",
        "    for r in range(len(lineas)):\n",
        "      lineaBis = lineas[r].strip().split(\",\")\n",
        "      for c in range(len(lineaBis)):\n",
        "        self.laberinto.set_item(r,c,lineaBis[c])\n",
        "\n",
        "    #buscar la entrada\n",
        "    for r in range(self.laberinto.get_row_size()):\n",
        "      for c in range(self.laberinto.get_col_size()):\n",
        "        if self.laberinto.get_item(r,c) == \"E\":\n",
        "          self.camino.push((r,c))\n",
        "\n",
        "  \n"
      ],
      "execution_count": 26,
      "outputs": []
    },
    {
      "cell_type": "code",
      "metadata": {
        "colab": {
          "base_uri": "https://localhost:8080/"
        },
        "id": "1XSEVQ2Wt4qo",
        "outputId": "095e2195-57de-4173-b431-3fdb61147dcb"
      },
      "source": [
        "juego = LaberintoADT(\"entrada.txt\")\n"
      ],
      "execution_count": 27,
      "outputs": [
        {
          "output_type": "stream",
          "name": "stdout",
          "text": [
            "['P', 'P', 'P', 'P', 'P']\n",
            "['P', 'P', 'C', 'C', 'S']\n",
            "['P', 'C', 'C', 'P', 'P']\n",
            "['P', 'P', 'C', 'P', 'P']\n",
            "['P', 'P', 'E', 'P', 'P']\n",
            "Estado de la pila es: \n",
            "| (4, 2) |\n"
          ]
        }
      ]
    }
  ]
}