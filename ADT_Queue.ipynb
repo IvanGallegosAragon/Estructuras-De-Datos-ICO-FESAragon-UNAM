{
  "nbformat": 4,
  "nbformat_minor": 0,
  "metadata": {
    "colab": {
      "name": "ADT Queue.ipynb",
      "provenance": [],
      "authorship_tag": "ABX9TyO7y+2a1Bs+oTPtKgkbftqU",
      "include_colab_link": true
    },
    "kernelspec": {
      "name": "python3",
      "display_name": "Python 3"
    },
    "language_info": {
      "name": "python"
    }
  },
  "cells": [
    {
      "cell_type": "markdown",
      "metadata": {
        "id": "view-in-github",
        "colab_type": "text"
      },
      "source": [
        "<a href=\"https://colab.research.google.com/github/IvanGallegosAragon/Estructuras-De-Datos-ICO-FESAragon-UNAM/blob/main/ADT_Queue.ipynb\" target=\"_parent\"><img src=\"https://colab.research.google.com/assets/colab-badge.svg\" alt=\"Open In Colab\"/></a>"
      ]
    },
    {
      "cell_type": "code",
      "metadata": {
        "id": "Fz6kSO0VqTDg"
      },
      "source": [
        "class QueueADT:\n",
        "  def __init__(self):\n",
        "    self.__data = []\n",
        "\n",
        "  def is_Empty(self):\n",
        "    return len(self.__data)==0\n",
        "\n",
        "  def length(self):\n",
        "    return len(self.__data)  \n",
        "\n",
        "  def enqueue(self, elemento):\n",
        "    self.__data.append(elemento)  \n",
        "\n",
        "  def dequeue(self):\n",
        "    if not self.is_Empty():\n",
        "      return self.__data.pop(0)\n",
        "\n",
        "  def to_string(self):\n",
        "    for elem in self.__data:\n",
        "      print(f\"| {elem} | <-- \", end= \"\" )   \n",
        "    print(\"\")  "
      ],
      "execution_count": 5,
      "outputs": []
    },
    {
      "cell_type": "code",
      "metadata": {
        "colab": {
          "base_uri": "https://localhost:8080/"
        },
        "id": "3kw1W7S7vrLO",
        "outputId": "bfbaaa43-64e8-45e9-b88b-927b0f9633aa"
      },
      "source": [
        "cola = QueueADT()\n",
        "print(f\"Esta vació?, {cola.is_Empty()}\")\n",
        "print(f\"Numero de elementos, {cola.length()}\")\n",
        "cola.enqueue(10)\n",
        "cola.to_string()\n",
        "print(\"-------------------\")\n",
        "cola.enqueue(20)\n",
        "cola.enqueue(30)\n",
        "cola.enqueue(40)\n",
        "cola.to_string()\n",
        "sig = cola.dequeue()\n",
        "print(f\"Atendiendo a: {sig}\")\n",
        "cola.to_string()"
      ],
      "execution_count": 9,
      "outputs": [
        {
          "output_type": "stream",
          "name": "stdout",
          "text": [
            "Esta vació?, True\n",
            "Numero de elementos, 0\n",
            "| 10 | <-- \n",
            "-------------------\n",
            "| 10 | <-- | 20 | <-- | 30 | <-- | 40 | <-- \n",
            "Atendiendo a: 10\n",
            "| 20 | <-- | 30 | <-- | 40 | <-- \n"
          ]
        }
      ]
    }
  ]
}