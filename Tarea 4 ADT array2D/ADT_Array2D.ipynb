{
  "nbformat": 4,
  "nbformat_minor": 0,
  "metadata": {
    "colab": {
      "name": "ADT_Array2D.ipynb",
      "provenance": []
    },
    "kernelspec": {
      "name": "python3",
      "display_name": "Python 3"
    },
    "language_info": {
      "name": "python"
    }
  },
  "cells": [
    {
      "cell_type": "code",
      "metadata": {
        "id": "KLKruZxmGcEK"
      },
      "source": [
        "class Array2D():\n",
        "  \n",
        "  def __init__(self, ren, col):\n",
        "    self.__ren = ren\n",
        "    self.__col = col \n",
        "    self.__data = [[\" \" for x in range(self.__ren)] for y in range(self.__col)]\n",
        "  \n",
        "  def clear(self,dato):\n",
        "    self.__data = [[dato for x in range(self.__ren)] for y in range(self.__col)]\n",
        "  \n",
        "  def get_row_size(self):\n",
        "    return self.__ren\n",
        "  \n",
        "  def get_col_size(self):\n",
        "    return self.__col\n",
        "  \n",
        "  def get_item(self, ren, col):\n",
        "    return self.__data[col][ren]\n",
        "\n",
        "  def __check_limits__(self, ren, col):\n",
        "    return (ren >= 0 and ren < self.__ren) and (col >= 0 and col < self.__col)\n",
        "\n",
        "  def set_item(self, ren, col, dato):\n",
        "    if self.__check_limits__(ren,col):\n",
        "      self.__data[col][ren] = dato\n",
        "    else:\n",
        "      raise Exception(\"Error en los limetes de renglones o columnas\")\n",
        "  \n",
        "  def to_String(self):\n",
        "    string = \"\"\n",
        "    for col in range(self.__col):\n",
        "      for ren in range(self.__ren):\n",
        "        string += f\"[{str(self.__data[col][ren])}]\"\n",
        "      string += \"\\n\"\n",
        "    return string "
      ],
      "execution_count": 10,
      "outputs": []
    },
    {
      "cell_type": "code",
      "metadata": {
        "id": "Fss_1q2YhUv0"
      },
      "source": [
        "#Clase prueba \n",
        "class Persona():\n",
        "  def __init__(self, nombre):\n",
        "    self.__nombre = nombre\n",
        "  \n",
        "  def __str__(self):\n",
        "    return self.__nombre   "
      ],
      "execution_count": 4,
      "outputs": []
    },
    {
      "cell_type": "code",
      "metadata": {
        "colab": {
          "base_uri": "https://localhost:8080/"
        },
        "id": "7kWQBWNKe7ch",
        "outputId": "cd823a87-c82e-4617-b8ed-fa2b4914d436"
      },
      "source": [
        "#Main prueba\n",
        "dat = Array2D(3,2)\n",
        "\n",
        "print(f\"Numero de columnas: {dat.get_col_size()}\")\n",
        "print(f\"Numero de renglones: {dat.get_row_size()}\")\n",
        "\n",
        "dat.set_item(2,1,Persona(\"Ana\"))\n",
        "print(dat.get_item(2,1))\n",
        "\n",
        "dat.clear(Persona(\"Dhalia\"))\n",
        "print(dat.to_String())\n"
      ],
      "execution_count": 14,
      "outputs": [
        {
          "output_type": "stream",
          "name": "stdout",
          "text": [
            "Numero de columnas: 2\n",
            "Numero de renglones: 3\n",
            "Ana\n",
            "[Dhalia][Dhalia][Dhalia]\n",
            "[Dhalia][Dhalia][Dhalia]\n",
            "\n"
          ]
        }
      ]
    }
  ]
}