{
  "nbformat": 4,
  "nbformat_minor": 0,
  "metadata": {
    "colab": {
      "name": "ADT QueueAndPriorityQueue[22/11/21].ipynb",
      "provenance": [],
      "collapsed_sections": [],
      "authorship_tag": "ABX9TyOwgWLFKZcRVjzxBr9JWzKY",
      "include_colab_link": true
    },
    "kernelspec": {
      "name": "python3",
      "display_name": "Python 3"
    },
    "language_info": {
      "name": "python"
    }
  },
  "cells": [
    {
      "cell_type": "markdown",
      "metadata": {
        "id": "view-in-github",
        "colab_type": "text"
      },
      "source": [
        "<a href=\"https://colab.research.google.com/github/IvanGallegosAragon/Estructuras-De-Datos-ICO-FESAragon-UNAM/blob/main/ADT_QueueAndPriorityQueue%5B22_11_21%5D.ipynb\" target=\"_parent\"><img src=\"https://colab.research.google.com/assets/colab-badge.svg\" alt=\"Open In Colab\"/></a>"
      ]
    },
    {
      "cell_type": "code",
      "metadata": {
        "id": "Fz6kSO0VqTDg"
      },
      "source": [
        "class QueueADT:\n",
        "  def __init__(self):\n",
        "    self.__data = []\n",
        "\n",
        "  def is_Empty(self):\n",
        "    return len(self.__data)==0\n",
        "\n",
        "  def length(self):\n",
        "    return len(self.__data)  \n",
        "\n",
        "  def enqueue(self, elemento):\n",
        "    self.__data.append(elemento)  \n",
        "\n",
        "  def dequeue(self):\n",
        "    if not self.is_Empty():\n",
        "      return self.__data.pop(0)\n",
        "\n",
        "  def to_string(self):\n",
        "    for elem in self.__data:\n",
        "      print(f\"| {elem} | <-- \", end= \"\" )   \n",
        "    print(\"\")  "
      ],
      "execution_count": 1,
      "outputs": []
    },
    {
      "cell_type": "code",
      "metadata": {
        "colab": {
          "base_uri": "https://localhost:8080/"
        },
        "id": "3kw1W7S7vrLO",
        "outputId": "b3cb16df-978f-480b-cd17-c9c31dcfa5ec"
      },
      "source": [
        "cola = QueueADT()\n",
        "print(f\"Esta vació?, {cola.is_Empty()}\")\n",
        "print(f\"Numero de elementos, {cola.length()}\")\n",
        "cola.enqueue(10)\n",
        "cola.to_string()\n",
        "print(\"-------------------\")\n",
        "cola.enqueue(20)\n",
        "cola.enqueue(30)\n",
        "cola.enqueue(40)\n",
        "cola.to_string()\n",
        "sig = cola.dequeue()\n",
        "print(f\"Atendiendo a: {sig}\")\n",
        "cola.to_string()"
      ],
      "execution_count": 2,
      "outputs": [
        {
          "output_type": "stream",
          "name": "stdout",
          "text": [
            "Esta vació?, True\n",
            "Numero de elementos, 0\n",
            "| 10 | <-- \n",
            "-------------------\n",
            "| 10 | <-- | 20 | <-- | 30 | <-- | 40 | <-- \n",
            "Atendiendo a: 10\n",
            "| 20 | <-- | 30 | <-- | 40 | <-- \n"
          ]
        }
      ]
    },
    {
      "cell_type": "code",
      "metadata": {
        "id": "CX97iGYF7B3B"
      },
      "source": [
        "class ColaPrioridadAcotada:\n",
        "  def __init__(self, niveles):\n",
        "    self.__data = [ QueueADT() for x in range(niveles)]\n",
        "    self.length = 0\n",
        "\n",
        "  def is_Empty(self):\n",
        "    return self.length == 0\n",
        "\n",
        "  def length(self):\n",
        "    return self.length\n",
        "\n",
        "  def enqueue(self, prioridad, elemento):\n",
        "    if prioridad >= 0 and prioridad < len(self.__data):\n",
        "      self.__data[prioridad].enqueue(elemento)\n",
        "      self.length += 1\n",
        "\n",
        "  def dequeue(self):\n",
        "    for elem in self.__data:\n",
        "      if not elem.is_Empty():\n",
        "        self.length -= 1\n",
        "        return elem.dequeue()\n",
        "\n",
        "  def to_string(self):\n",
        "    for p in range(len(self.__data)):\n",
        "      print(f\"Prioridad {p} -->: \",end=\"\")\n",
        "      self.__data[p].to_string()  "
      ],
      "execution_count": 3,
      "outputs": []
    },
    {
      "cell_type": "code",
      "metadata": {
        "colab": {
          "base_uri": "https://localhost:8080/"
        },
        "id": "etKRdYqFCmdJ",
        "outputId": "90323811-7b7c-4005-dfce-cea6b94dcc02"
      },
      "source": [
        "cpa = ColaPrioridadAcotada(7)\n",
        "cpa.enqueue(4,\"A\")\n",
        "cpa.enqueue(2,\"Z\")\n",
        "cpa.enqueue(4,\"N\")\n",
        "cpa.enqueue(1,\"P\")\n",
        "cpa.to_string()\n",
        "print(\".-.-.-.-.-.--.-.-.--.-.-.-.\")\n",
        "print(f\"Atendiendo a: {cpa.dequeue()}\")\n",
        "cpa.to_string()\n"
      ],
      "execution_count": 4,
      "outputs": [
        {
          "output_type": "stream",
          "name": "stdout",
          "text": [
            "Prioridad 0 -->: \n",
            "Prioridad 1 -->: | P | <-- \n",
            "Prioridad 2 -->: | Z | <-- \n",
            "Prioridad 3 -->: \n",
            "Prioridad 4 -->: | A | <-- | N | <-- \n",
            "Prioridad 5 -->: \n",
            "Prioridad 6 -->: \n",
            ".-.-.-.-.-.--.-.-.--.-.-.-.\n",
            "Atendiendo a: P\n",
            "Prioridad 0 -->: \n",
            "Prioridad 1 -->: \n",
            "Prioridad 2 -->: | Z | <-- \n",
            "Prioridad 3 -->: \n",
            "Prioridad 4 -->: | A | <-- | N | <-- \n",
            "Prioridad 5 -->: \n",
            "Prioridad 6 -->: \n"
          ]
        }
      ]
    },
    {
      "cell_type": "code",
      "metadata": {
        "id": "kBswirAfEwZ9"
      },
      "source": [
        "class ColaDePrioridad:\n",
        "  def __init__(self):\n",
        "    self.__data = []\n",
        "    self.__length = 0\n",
        "  \n",
        "  def is_Empty(self):\n",
        "    return self.__length == 0\n",
        "\n",
        "  def length(self):\n",
        "    return self.__length\n",
        "\n",
        "  #Implementar el metodo de insert de listas \n",
        "  def enqueue(self,prioridad, elemento):\n",
        "    existe = False\n",
        "    indice = 0\n",
        "    for index in range(len(self.__data)):\n",
        "      if self.__data[index][\"p\"] == prioridad:\n",
        "        existe = True \n",
        "        indice = index\n",
        "        break\n",
        "    if existe == True:\n",
        "      self.__data[indice][\"cola\"].enqueue(elemento)\n",
        "    else:\n",
        "      self.__data.append({\"p\":prioridad, \"cola\": QueueADT()})\n",
        "      self.__data[-1][\"cola\"].enqueue(elemento)\n",
        "\n",
        "  def to_string(self):\n",
        "    for level in self.__data:\n",
        "      print(level[\"p\"],end= \" = \")\n",
        "      level[\"cola\"].to_string()\n",
        "\n",
        "\n",
        "\n",
        "  "
      ],
      "execution_count": 17,
      "outputs": []
    },
    {
      "cell_type": "code",
      "metadata": {
        "colab": {
          "base_uri": "https://localhost:8080/"
        },
        "id": "nRIOD2c5aJbp",
        "outputId": "cf4e6be6-6387-4114-9be5-ad1c84fba92d"
      },
      "source": [
        "cp = ColaDePrioridad()\n",
        "cp.enqueue(2,\"A\")\n",
        "cp.enqueue(4,\"Z\")\n",
        "cp.enqueue(1,\"R\")\n",
        "cp.enqueue(2,\"B\")\n",
        "cp.enqueue(4,\"Y\")\n",
        "print(\".--.--.---.-\")\n",
        "\n",
        "cp.to_string()"
      ],
      "execution_count": 18,
      "outputs": [
        {
          "output_type": "stream",
          "name": "stdout",
          "text": [
            ".--.--.---.-\n",
            "2 = | A | <-- | B | <-- \n",
            "4 = | Z | <-- | Y | <-- \n",
            "1 = | R | <-- \n"
          ]
        }
      ]
    }
  ]
}