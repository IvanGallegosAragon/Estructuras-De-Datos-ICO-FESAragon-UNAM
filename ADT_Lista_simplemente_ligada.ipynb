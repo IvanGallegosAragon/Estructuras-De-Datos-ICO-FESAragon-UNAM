{
  "nbformat": 4,
  "nbformat_minor": 0,
  "metadata": {
    "colab": {
      "name": "ADT_Lista_simplemente_ligada.ipynb",
      "provenance": [],
      "authorship_tag": "ABX9TyOfWAcLJ3oqfJFJzHczQuHZ",
      "include_colab_link": true
    },
    "kernelspec": {
      "name": "python3",
      "display_name": "Python 3"
    },
    "language_info": {
      "name": "python"
    }
  },
  "cells": [
    {
      "cell_type": "markdown",
      "metadata": {
        "id": "view-in-github",
        "colab_type": "text"
      },
      "source": [
        "<a href=\"https://colab.research.google.com/github/IvanGallegosAragon/Estructuras-De-Datos-ICO-FESAragon-UNAM/blob/main/ADT_Lista_simplemente_ligada.ipynb\" target=\"_parent\"><img src=\"https://colab.research.google.com/assets/colab-badge.svg\" alt=\"Open In Colab\"/></a>"
      ]
    },
    {
      "cell_type": "code",
      "metadata": {
        "id": "1VNU3BFVR2In"
      },
      "source": [
        "class Nodo:\n",
        "  def __init__(self, value, siguiente = None):\n",
        "    self.data = value\n",
        "    self.next = siguiente"
      ],
      "execution_count": 1,
      "outputs": []
    },
    {
      "cell_type": "code",
      "metadata": {
        "colab": {
          "base_uri": "https://localhost:8080/"
        },
        "id": "-MwTTCbzTiUM",
        "outputId": "d657d396-bbb9-42c5-9e24-b2a621c719a3"
      },
      "source": [
        "head = Nodo(30)\n",
        "print(head.data)\n",
        "print(head.next)\n"
      ],
      "execution_count": 8,
      "outputs": [
        {
          "output_type": "stream",
          "name": "stdout",
          "text": [
            "30\n",
            "None\n"
          ]
        }
      ]
    },
    {
      "cell_type": "code",
      "metadata": {
        "colab": {
          "base_uri": "https://localhost:8080/"
        },
        "id": "BVhf--pxVZDM",
        "outputId": "6cfc084d-25b7-4f71-9877-a5211c2fbc7b"
      },
      "source": [
        "#Head 2 tambien se puede llamar punto_de_entrada\n",
        "head2 = Nodo(20)\n",
        "head2.next = Nodo(15)\n",
        "print(head2.data)\n",
        "print(head2.next.data)\n",
        "\n",
        "\n",
        "#print(head2.next)\n",
        "\n",
        "\n",
        "print(\"Hacer lo mismo pero con el segundo metodo\")\n",
        "punto_de_entrada = Nodo( 20, Nodo(15))\n",
        "print(punto_de_entrada.data)\n",
        "print(punto_de_entrada.next.data)"
      ],
      "execution_count": 7,
      "outputs": [
        {
          "output_type": "stream",
          "name": "stdout",
          "text": [
            "20\n",
            "15\n",
            "Hacer lo mismo pero con el segundo metodo\n",
            "20\n",
            "15\n"
          ]
        }
      ]
    },
    {
      "cell_type": "code",
      "metadata": {
        "id": "hsZeNksTLUT8"
      },
      "source": [
        ""
      ],
      "execution_count": null,
      "outputs": []
    }
  ]
}