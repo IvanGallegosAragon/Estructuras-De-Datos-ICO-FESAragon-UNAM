{
  "nbformat": 4,
  "nbformat_minor": 0,
  "metadata": {
    "colab": {
      "name": "Arboles.ipynb",
      "provenance": [],
      "authorship_tag": "ABX9TyOANR0x3JGbKGl6SaLohYQL",
      "include_colab_link": true
    },
    "kernelspec": {
      "name": "python3",
      "display_name": "Python 3"
    },
    "language_info": {
      "name": "python"
    }
  },
  "cells": [
    {
      "cell_type": "markdown",
      "metadata": {
        "id": "view-in-github",
        "colab_type": "text"
      },
      "source": [
        "<a href=\"https://colab.research.google.com/github/IvanGallegosAragon/Estructuras-De-Datos-ICO-FESAragon-UNAM/blob/main/Arboles.ipynb\" target=\"_parent\"><img src=\"https://colab.research.google.com/assets/colab-badge.svg\" alt=\"Open In Colab\"/></a>"
      ]
    },
    {
      "cell_type": "code",
      "metadata": {
        "id": "z1cmDaZetsJA"
      },
      "source": [
        "class BinaryNode: \n",
        "  def __init__(self, value, left = None, rigth = None ):\n",
        "    self.data = value\n",
        "    self.left = left\n",
        "    self.rigth = rigth   "
      ],
      "execution_count": 10,
      "outputs": []
    },
    {
      "cell_type": "code",
      "metadata": {
        "id": "v_iSQYe1uTiV"
      },
      "source": [
        "class TernaryNode:\n",
        "  def __init__(self, value, left = None, center = None, rigth = None ):\n",
        "    self.data = value\n",
        "    self.left = left\n",
        "    self.center = center\n",
        "    self.rigth = rigth "
      ],
      "execution_count": 11,
      "outputs": []
    },
    {
      "cell_type": "code",
      "metadata": {
        "id": "EB58fjF7ujL9"
      },
      "source": [
        "root = BinaryNode(\"R\",BinaryNode(\"C\"),BinaryNode(\"H\"))\n",
        "print(root.left.data)"
      ],
      "execution_count": null,
      "outputs": []
    },
    {
      "cell_type": "code",
      "metadata": {
        "colab": {
          "base_uri": "https://localhost:8080/"
        },
        "id": "U1-HiL64wJ-m",
        "outputId": "350b81e9-96a6-4f93-c699-b20a6dc2a8f7"
      },
      "source": [
        "root2 = TernaryNode(4,TernaryNode(3,TernaryNode(5,TernaryNode(2)),TernaryNode(5),TernaryNode(2)),None,TernaryNode(5))\n",
        "print(root2.left.left.left.data)\n",
        "print(\"-.-.---.--..--..-.-.-\")\n",
        "aux = root2\n",
        "while aux.left != None:\n",
        "  aux = aux.left\n",
        "print(aux.data)  \n",
        "print(\"-..--.-.---..-\")\n",
        "print(root2.left.rigth.data)"
      ],
      "execution_count": 20,
      "outputs": [
        {
          "output_type": "stream",
          "name": "stdout",
          "text": [
            "2\n",
            "-.-.---.--..--..-.-.-\n",
            "2\n",
            "-..--.-.---..-\n",
            "2\n"
          ]
        }
      ]
    },
    {
      "cell_type": "code",
      "metadata": {
        "colab": {
          "base_uri": "https://localhost:8080/"
        },
        "id": "DkXuUAah46ZC",
        "outputId": "d88ad29e-82b1-4e79-a37a-a12e68da197d"
      },
      "source": [
        "root = BinaryNode(\"Santi\",None,BinaryNode(\"Jesus\",BinaryNode(\"Pedro\",None,BinaryNode(\"Pedro\"))))\n",
        "print(root.rigth.data)"
      ],
      "execution_count": 23,
      "outputs": [
        {
          "output_type": "stream",
          "name": "stdout",
          "text": [
            "Jesus\n"
          ]
        }
      ]
    }
  ]
}