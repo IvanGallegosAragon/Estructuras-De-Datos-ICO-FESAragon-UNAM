{
  "nbformat": 4,
  "nbformat_minor": 0,
  "metadata": {
    "colab": {
      "name": "Array2D_Juego_De_La_Vida.ipynb",
      "provenance": [],
      "collapsed_sections": []
    },
    "kernelspec": {
      "name": "python3",
      "display_name": "Python 3"
    },
    "language_info": {
      "name": "python"
    }
  },
  "cells": [
    {
      "cell_type": "markdown",
      "metadata": {
        "id": "jFNrzVNTRVvC"
      },
      "source": [
        "***Se necesita instalar el paquete de abajo***.*** No realmente ya que no pude implementarlo ya que teneia que modificar directamente la class Array2D() ignorando el encapsulamiento y diversos metodos ya que el formato de chalk al parecer es durante ejecucion y si se guarda como string al imprimir no llama a su formato. ***"
      ]
    },
    {
      "cell_type": "code",
      "metadata": {
        "colab": {
          "base_uri": "https://localhost:8080/"
        },
        "id": "JgrKKXbFDm6h",
        "outputId": "82547a4f-331b-4621-d7f9-d5f12d84f7fa"
      },
      "source": [
        "!pip install simple_chalk"
      ],
      "execution_count": 1,
      "outputs": [
        {
          "output_type": "stream",
          "name": "stdout",
          "text": [
            "Collecting simple_chalk\n",
            "  Downloading simple_chalk-0.1.0.tar.gz (13 kB)\n",
            "Building wheels for collected packages: simple-chalk\n",
            "  Building wheel for simple-chalk (setup.py) ... \u001b[?25l\u001b[?25hdone\n",
            "  Created wheel for simple-chalk: filename=simple_chalk-0.1.0-py3-none-any.whl size=22163 sha256=2b244910cd83e03334fd5347332e6c197e891d295242fa2892dd8d397a414659\n",
            "  Stored in directory: /root/.cache/pip/wheels/24/e2/84/d54838032016039eef79df1137b91defaa6db068d825dfcdcd\n",
            "Successfully built simple-chalk\n",
            "Installing collected packages: simple-chalk\n",
            "Successfully installed simple-chalk-0.1.0\n"
          ]
        }
      ]
    },
    {
      "cell_type": "code",
      "metadata": {
        "id": "SHvLcMIt4QjO"
      },
      "source": [
        "class Array2D():\n",
        "  def __init__(self, ren, col):\n",
        "    self.__columnas = col\n",
        "    self.__renglones = ren\n",
        "    self.__data = [[ 0 for i in range(col)]for i in range (ren)]\n",
        "\n",
        "  def to_string(self):\n",
        "    for i in range(self.__renglones):\n",
        "      print(self.__data[i])\n",
        "\n",
        "  def clear(self, dato):\n",
        "    for i in range(self.__renglones):\n",
        "      for x in range(self.__columnas):\n",
        "        self.__data[i][x] = dato\n",
        "\n",
        "  def get_row_size(self):\n",
        "    return self.__renglones\n",
        "\n",
        "  def get_col_size(self):\n",
        "    return self.__columnas\n",
        "\n",
        "  def set_item(self,ren,col,dato):\n",
        "    self.__data[ren][col] = dato\n",
        "\n",
        "  def get_item(self,ren,col):\n",
        "    return self.__data[ren][col]"
      ],
      "execution_count": 2,
      "outputs": []
    },
    {
      "cell_type": "code",
      "metadata": {
        "id": "poroQ7_q4Vca"
      },
      "source": [
        "class JuegoDeLaVidaADT:\n",
        "  def __init__( self,rens,cols, list_pob_init, generations  ):\n",
        "    \"\"\"En el constructor la var list_pob_init es una lista de tuplas que son las cordenadas x,y de la forma (ren,col) de las\n",
        "    Celulas vivad de la poblacion incial \"\"\"\n",
        "    self.list_pob_init = list_pob_init\n",
        "    self.generations = generations\n",
        "    self.gen = 1\n",
        "    self.tablero =Array2D(rens,cols)\n",
        "    self.tablero.clear(\"M\")\n",
        "    for par in self.list_pob_init:\n",
        "      self.tablero.set_item(par[0],par[1],\"V\")\n",
        "    \n",
        "  def to_String(self):\n",
        "    print(f\"-----GENERACION {self.gen}\")\n",
        "    self.tablero.to_string()\n",
        "    \n",
        "  def get_vecinos(self, r, c):\n",
        "    vecino = []\n",
        "    for ren in range(r - 1, r + 2, 1):\n",
        "      for col in range(c - 1, c + 2, 1):  \n",
        "        if ren < 0 or ren >= self.tablero.get_row_size() or col < 0 or col >= self.tablero.get_col_size() or (ren==r and col==c):\n",
        "          pass\n",
        "        else:\n",
        "          vecino.append((ren,col)) \n",
        "    return vecino       \n",
        "  \n",
        "  def get_vecinos_vivos(self, r, c):\n",
        "    vivos = 0\n",
        "    vecinos = self.get_vecinos(r,c)\n",
        "    for par in vecinos:\n",
        "      if self.tablero.get_item(par[0],par[1]) == \"V\":\n",
        "        vivos += 1\n",
        "    return vivos \n",
        "\n",
        "  def aplicar_reglas(self):\n",
        "    \"\"\"Recorrer y aplicar reglas, generando lista de coordenadas y estableciendolas en el tablero\"\"\"\n",
        "    for gen in range( self.generations):\n",
        "      next_generation_lives = []\n",
        "      for ren in range(self.tablero.get_row_size()):\n",
        "        for col in range(self.tablero.get_col_size()):\n",
        "          celda_actual = self.tablero.get_item(ren,col)\n",
        "          vecinos_vivos = self.get_vecinos_vivos(ren, col)\n",
        "          if celda_actual == \"V\":\n",
        "            if vecinos_vivos ==  2 or vecinos_vivos == 3: #Regla 1\n",
        "              next_generation_lives.append((ren,col))\n",
        "              continue\n",
        "            elif vecinos_vivos == 1 or vecinos_vivos == 0: #Regla 2\n",
        "              continue\n",
        "            elif vecinos_vivos >= 4:\n",
        "              continue    \n",
        "          else: #Cuando es == \"M\"\n",
        "            if vecinos_vivos == 3: #Regla 4\n",
        "              next_generation_lives.append((ren,col))\n",
        "            else:\n",
        "              continue\n",
        "      #Generacion de la next generation        \n",
        "      self.tablero.clear(\"M\")             \n",
        "      for par in next_generation_lives:\n",
        "        self.tablero.set_item(par[0],par[1],\"V\")\n",
        "      self.to_String()  \n",
        "      self.gen += 1        "
      ],
      "execution_count": 3,
      "outputs": []
    },
    {
      "cell_type": "code",
      "metadata": {
        "id": "uQs6PGS56l5k",
        "colab": {
          "base_uri": "https://localhost:8080/"
        },
        "outputId": "6cba512d-3ec4-4c31-9434-0d2f416b6816"
      },
      "source": [
        "juego = JuegoDeLaVidaADT(6,5, [(2,2),(3,1),(3,2),(3,3)],9)\n",
        "juego.aplicar_reglas()"
      ],
      "execution_count": 5,
      "outputs": [
        {
          "output_type": "stream",
          "name": "stdout",
          "text": [
            "-----GENERACION 1\n",
            "['M', 'M', 'M', 'M', 'M']\n",
            "['M', 'M', 'M', 'M', 'M']\n",
            "['M', 'V', 'V', 'V', 'M']\n",
            "['M', 'V', 'V', 'V', 'M']\n",
            "['M', 'M', 'V', 'M', 'M']\n",
            "['M', 'M', 'M', 'M', 'M']\n",
            "-----GENERACION 2\n",
            "['M', 'M', 'M', 'M', 'M']\n",
            "['M', 'M', 'V', 'M', 'M']\n",
            "['M', 'V', 'M', 'V', 'M']\n",
            "['M', 'M', 'M', 'M', 'M']\n",
            "['M', 'V', 'V', 'V', 'M']\n",
            "['M', 'M', 'M', 'M', 'M']\n",
            "-----GENERACION 3\n",
            "['M', 'M', 'M', 'M', 'M']\n",
            "['M', 'M', 'V', 'M', 'M']\n",
            "['M', 'M', 'V', 'M', 'M']\n",
            "['M', 'V', 'M', 'V', 'M']\n",
            "['M', 'M', 'V', 'M', 'M']\n",
            "['M', 'M', 'V', 'M', 'M']\n",
            "-----GENERACION 4\n",
            "['M', 'M', 'M', 'M', 'M']\n",
            "['M', 'M', 'M', 'M', 'M']\n",
            "['M', 'V', 'V', 'V', 'M']\n",
            "['M', 'V', 'M', 'V', 'M']\n",
            "['M', 'V', 'V', 'V', 'M']\n",
            "['M', 'M', 'M', 'M', 'M']\n",
            "-----GENERACION 5\n",
            "['M', 'M', 'M', 'M', 'M']\n",
            "['M', 'M', 'V', 'M', 'M']\n",
            "['M', 'V', 'M', 'V', 'M']\n",
            "['V', 'M', 'M', 'M', 'V']\n",
            "['M', 'V', 'M', 'V', 'M']\n",
            "['M', 'M', 'V', 'M', 'M']\n",
            "-----GENERACION 6\n",
            "['M', 'M', 'M', 'M', 'M']\n",
            "['M', 'M', 'V', 'M', 'M']\n",
            "['M', 'V', 'V', 'V', 'M']\n",
            "['V', 'V', 'M', 'V', 'V']\n",
            "['M', 'V', 'V', 'V', 'M']\n",
            "['M', 'M', 'V', 'M', 'M']\n",
            "-----GENERACION 7\n",
            "['M', 'M', 'M', 'M', 'M']\n",
            "['M', 'V', 'V', 'V', 'M']\n",
            "['V', 'M', 'M', 'M', 'V']\n",
            "['V', 'M', 'M', 'M', 'V']\n",
            "['V', 'M', 'M', 'M', 'V']\n",
            "['M', 'V', 'V', 'V', 'M']\n",
            "-----GENERACION 8\n",
            "['M', 'M', 'V', 'M', 'M']\n",
            "['M', 'V', 'V', 'V', 'M']\n",
            "['V', 'M', 'V', 'M', 'V']\n",
            "['V', 'V', 'M', 'V', 'V']\n",
            "['V', 'M', 'V', 'M', 'V']\n",
            "['M', 'V', 'V', 'V', 'M']\n",
            "-----GENERACION 9\n",
            "['M', 'V', 'V', 'V', 'M']\n",
            "['M', 'M', 'M', 'M', 'M']\n",
            "['V', 'M', 'M', 'M', 'V']\n",
            "['V', 'M', 'M', 'M', 'V']\n",
            "['V', 'M', 'M', 'M', 'V']\n",
            "['M', 'V', 'V', 'V', 'M']\n"
          ]
        }
      ]
    }
  ]
}